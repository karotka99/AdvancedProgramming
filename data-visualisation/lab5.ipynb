{
 "cells": [
  {
   "cell_type": "markdown",
   "metadata": {},
   "source": [
    "# Zadanie \n",
    "Stwórz klasę Statystyka z najważniejszymi statystykami oraz klasę Konto, zawierające różne informacje dotyczące konta bankowego. "
   ]
  },
  {
   "cell_type": "code",
   "execution_count": 5,
   "metadata": {},
   "outputs": [
    {
     "data": {
      "text/plain": [
       "1.118033988749895"
      ]
     },
     "execution_count": 5,
     "metadata": {},
     "output_type": "execute_result"
    }
   ],
   "source": [
    "class Statystyka:\n",
    "    @staticmethod\n",
    "    def suma(*liczby):\n",
    "        temp=0\n",
    "        for i in liczby:\n",
    "            temp+=i\n",
    "        return temp\n",
    "    \n",
    "    @staticmethod\n",
    "    def ilość(*liczby):\n",
    "        temp=0\n",
    "        for i in liczby:\n",
    "            temp+=1\n",
    "        return temp\n",
    "    \n",
    "    @staticmethod\n",
    "    def srednia_arytmetyczna(*liczby):\n",
    "        return Statystyka.suma(*liczby)/Statystyka.ilość(*liczby)\n",
    "    \n",
    "    @staticmethod\n",
    "    def wariancja(*liczby):\n",
    "        temp=0\n",
    "        for i in liczby:\n",
    "            temp+=(i - Statystyka.srednia_arytmetyczna(*liczby))**2\n",
    "        return temp/Statystyka.ilość(*liczby)\n",
    "     \n",
    "    @staticmethod\n",
    "    def odchylenie_standardowe(*liczby):\n",
    "        return Statystyka.wariancja(*liczby)**(1/2)\n",
    "        \n",
    "    @staticmethod\n",
    "    def moment(n,*liczby):\n",
    "        moment=0\n",
    "        for i in liczby:\n",
    "            moment+=(i-Statystyka.srednia_arytmetyczna(*liczby))**n  \n",
    "        return moment/Statystyka.ilość(*liczby)\n",
    "    \n",
    "    @staticmethod\n",
    "    def asymetria(*liczby):\n",
    "        return Statystyka.moment(3,*liczby)/Statystyka.odchylenie_standardowe(*liczby)**3\n",
    "    \n",
    "     @staticmethod\n",
    "    def skosnosc(*liczby):\n",
    "        return Statystyka.moment(4,*liczby)/Statystyka.odchylenie_standardowe(*liczby)**4\n",
    "    \n",
    "    \n",
    "    \n",
    "    \n",
    "Statystyka.odchylenie_standardowe(1,2,3,4)"
   ]
  },
  {
   "cell_type": "code",
   "execution_count": 33,
   "metadata": {},
   "outputs": [
    {
     "name": "stdout",
     "output_type": "stream",
     "text": [
      "Konto: wlasciciel: Jan Nowak, nr: 123, saldo: 1000,lokata:0,kredyt:0\n",
      "Konto: wlasciciel: Jan Nowak, nr: 123, saldo: 500,lokata:500,kredyt:0\n",
      "Konto: wlasciciel: Jan Nowak, nr: 123, saldo: 1500,lokata:500,kredyt:1000\n",
      "Konto: wlasciciel: Jan Nowak, nr: 123, saldo: 1000,lokata:500,kredyt:500\n",
      "Konto: wlasciciel: Ala Kowalska, nr: 176, saldo: 50000,lokata:0,kredyt:0\n",
      "Konto: wlasciciel: Jan Nowak, nr: 123, saldo: 6000,lokata:500,kredyt:500\n",
      "Konto: wlasciciel: Ala Kowalska, nr: 176, saldo: 45000,lokata:0,kredyt:0\n"
     ]
    }
   ],
   "source": [
    "class Konto:\n",
    "\n",
    "    \n",
    "    def __init__(self, wlasciciel,nr_konta,saldo,kredyt, lokata):\n",
    "        self.wlasciciel=wlasciciel\n",
    "        self.nr_konta=nr_konta\n",
    "        self.saldo=saldo\n",
    "        self.kredyt=kredyt\n",
    "        self.lokata=lokata\n",
    "        \n",
    "    def zaloz_lokata(self,kwota):\n",
    "        if self.saldo>=kwota:\n",
    "            self.saldo-=kwota\n",
    "            self.lokata+=kwota\n",
    "        else:\n",
    "            return \"Masz za mało środków na koncie\"\n",
    "        \n",
    "    def wez_kredyt(self,kwota):\n",
    "        self.saldo +=kwota\n",
    "        self.kredyt +=kwota\n",
    "        \n",
    "    def splac_kredyt(self,kwota):\n",
    "        if self.saldo>=kwota:\n",
    "            self.saldo-= kwota\n",
    "            self.kredyt-=kwota   \n",
    "        else:\n",
    "            return \"Masz za mało środków na koncie\"\n",
    "        \n",
    "    def przelew(self,Konto,kwota):\n",
    "        if self.saldo>=kwota:\n",
    "            self.saldo-=kwota\n",
    "            Konto.saldo+=kwota\n",
    "        else:\n",
    "            return \"Masz za mało środków na koncie\"\n",
    "        \n",
    "    def __str__(self):\n",
    "        return \"Konto: wlasciciel: {}, nr: {}, saldo: {},lokata:{},kredyt:{}\".format(self.wlasciciel,self.nr_konta,self.saldo,self.lokata,self.kredyt)\n",
    "        \n",
    "        \n",
    "konto_1=Konto(\"Jan Nowak\",\"123\",1000,0,0)\n",
    "print(konto_1)  \n",
    "konto_1.zaloz_lokata(500)\n",
    "print(konto_1)  \n",
    "konto_1.wez_kredyt(1000)\n",
    "print(konto_1)  \n",
    "konto_1.splac_kredyt(500)\n",
    "print(konto_1)  \n",
    "konto_2=Konto(\"Ala Kowalska\",\"176\",50000,0,0)\n",
    "print(konto_2)\n",
    "konto_2.przelew(konto_1, 5000)\n",
    "print(konto_1)     \n",
    "print(konto_2)"
   ]
  },
  {
   "cell_type": "code",
   "execution_count": 48,
   "metadata": {},
   "outputs": [
    {
     "name": "stdout",
     "output_type": "stream",
     "text": [
      "1. Założono Konto: wlasciciel: Zbiegniew Wieża, nr: 789, saldo: 10000,lokata:0,kredyt:1000\n",
      "2. Założono lokatę na kwotę 500\n",
      "3. Wzięto kredyt na kwotę 2000\n"
     ]
    }
   ],
   "source": [
    "class Konto_VIP(Konto):\n",
    "    \n",
    "    def __init__(self, wlasciciel,nr_konta,saldo,kredyt, lokata):\n",
    "        super().__init__(wlasciciel,nr_konta,saldo,kredyt, lokata)\n",
    "        self.historia = [\"Założono \" + super().__str__()]\n",
    "    \n",
    "    def zaloz_lokata(self,kwota):\n",
    "        super().zaloz_lokata(kwota)\n",
    "        self.historia.append(\"Założono lokatę na kwotę \" + str(kwota))\n",
    "    def wez_kredyt(self,kwota):\n",
    "        super().wez_kredyt(kwota)\n",
    "        self.historia.append(\"Wzięto kredyt na kwotę \" + str(kwota))    \n",
    "        \n",
    "    def wyswietl_historia(self):\n",
    "        for i in range(len(self.historia)):\n",
    "            print(str(i+1) +\". \"+ self.historia[i])\n",
    "        \n",
    "        \n",
    "konto_vip=Konto_VIP(\"Zbiegniew Wieża\",\"789\",10000,1000,0)\n",
    "konto_vip.zaloz_lokata(500)\n",
    "konto_vip.wez_kredyt(2000)\n",
    "konto_vip.wyswietl_historia()"
   ]
  },
  {
   "cell_type": "code",
   "execution_count": null,
   "metadata": {},
   "outputs": [],
   "source": []
  }
 ],
 "metadata": {
  "kernelspec": {
   "display_name": "Python 3",
   "language": "python",
   "name": "python3"
  },
  "language_info": {
   "codemirror_mode": {
    "name": "ipython",
    "version": 3
   },
   "file_extension": ".py",
   "mimetype": "text/x-python",
   "name": "python",
   "nbconvert_exporter": "python",
   "pygments_lexer": "ipython3",
   "version": "3.8.3"
  }
 },
 "nbformat": 4,
 "nbformat_minor": 4
}
