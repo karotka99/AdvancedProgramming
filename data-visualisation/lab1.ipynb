{
 "cells": [
  {
   "cell_type": "markdown",
   "metadata": {},
   "source": [
    "### 1. Function for two numbers taken from the keyboard will return their product."
   ]
  },
  {
   "cell_type": "code",
   "execution_count": 4,
   "metadata": {},
   "outputs": [
    {
     "name": "stdout",
     "output_type": "stream",
     "text": [
      "1\n",
      "2\n"
     ]
    },
    {
     "data": {
      "text/plain": [
       "2.0"
      ]
     },
     "execution_count": 4,
     "metadata": {},
     "output_type": "execute_result"
    }
   ],
   "source": [
    "def product(a,b):\n",
    "    return a*b\n",
    "\n",
    "a=float(input());\n",
    "b=float(input());\n",
    "\n",
    "product(a,b)"
   ]
  },
  {
   "cell_type": "markdown",
   "metadata": {},
   "source": [
    "### 2. Function will check if the specified number is even."
   ]
  },
  {
   "cell_type": "code",
   "execution_count": 5,
   "metadata": {},
   "outputs": [
    {
     "name": "stdout",
     "output_type": "stream",
     "text": [
      "23\n"
     ]
    },
    {
     "data": {
      "text/plain": [
       "'odd'"
      ]
     },
     "execution_count": 5,
     "metadata": {},
     "output_type": "execute_result"
    }
   ],
   "source": [
    "def parity(c):\n",
    "    if c%2== 0:\n",
    "        return \"even\"\n",
    "    else:\n",
    "        return \"odd\"\n",
    "\n",
    "c=int(input())\n",
    "parity(c)\n"
   ]
  },
  {
   "cell_type": "markdown",
   "metadata": {},
   "source": [
    "### 3. Function will calculate the sum of squares of consecutive natural numbers smaller than the given value."
   ]
  },
  {
   "cell_type": "code",
   "execution_count": 6,
   "metadata": {},
   "outputs": [
    {
     "name": "stdout",
     "output_type": "stream",
     "text": [
      "4\n"
     ]
    },
    {
     "data": {
      "text/plain": [
       "14"
      ]
     },
     "execution_count": 6,
     "metadata": {},
     "output_type": "execute_result"
    }
   ],
   "source": [
    "def Sum(d):\n",
    "    sum = 0\n",
    "    for i in range(1,d):\n",
    "        sum += i*i\n",
    "    return sum\n",
    "\n",
    "def Sum2(d):\n",
    "    sum=0\n",
    "    i=1\n",
    "    while i<d:\n",
    "        sum+=i**2\n",
    "        i+=1\n",
    "    return sum    \n",
    "\n",
    "d=int(input())\n",
    "Sum2(d)"
   ]
  },
  {
   "cell_type": "markdown",
   "metadata": {},
   "source": [
    "### 4. Function will check if the given number is prime."
   ]
  },
  {
   "cell_type": "code",
   "execution_count": 10,
   "metadata": {},
   "outputs": [
    {
     "name": "stdout",
     "output_type": "stream",
     "text": [
      "239\n"
     ]
    },
    {
     "data": {
      "text/plain": [
       "'prime'"
      ]
     },
     "execution_count": 10,
     "metadata": {},
     "output_type": "execute_result"
    }
   ],
   "source": [
    "def prime(e):\n",
    "    f=int(e**0.5)\n",
    "    if e==1:\n",
    "        return \"not prime\"\n",
    "    \n",
    "    for i in range(2,f+1):\n",
    "        if e%i==0:\n",
    "            return \"not prime\"\n",
    "       \n",
    "    \n",
    "    return \"prime\"\n",
    "        \n",
    "            \n",
    "e=int(input())\n",
    "prime(e)"
   ]
  },
  {
   "cell_type": "markdown",
   "metadata": {},
   "source": [
    "### 5. Function will find the divisors of the given number."
   ]
  },
  {
   "cell_type": "code",
   "execution_count": 13,
   "metadata": {},
   "outputs": [
    {
     "name": "stdout",
     "output_type": "stream",
     "text": [
      "123\n",
      "Divisors 123 :\n",
      "- 1\n",
      "- 3\n",
      "- 41\n",
      "- 123\n"
     ]
    }
   ],
   "source": [
    "def divisors(g):\n",
    "\n",
    "\n",
    "    print(\"Divisors\", g, \":\")\n",
    "    for i in range(1,g+1):\n",
    "        if g%i==0:\n",
    "            print(\"-\",i)\n",
    "\n",
    "            \n",
    "g=int(input())\n",
    "divisors(g)"
   ]
  },
  {
   "cell_type": "markdown",
   "metadata": {},
   "source": [
    "### 6. Function will return the distribution of the given number into prime divisors."
   ]
  },
  {
   "cell_type": "code",
   "execution_count": 20,
   "metadata": {},
   "outputs": [
    {
     "name": "stdout",
     "output_type": "stream",
     "text": [
      "5460\n"
     ]
    },
    {
     "data": {
      "text/plain": [
       "[2, 2, 3, 5, 7, 13]"
      ]
     },
     "execution_count": 20,
     "metadata": {},
     "output_type": "execute_result"
    }
   ],
   "source": [
    "def primedivisors(j):\n",
    "    lab=[]\n",
    "    for i in range(2,int(j/2)):\n",
    "        while j%i==0:\n",
    "            lab.append(i)\n",
    "            j=j/i\n",
    "    return lab\n",
    "\n",
    "h=int(input())\n",
    "primedivisors(h)"
   ]
  }
 ],
 "metadata": {
  "kernelspec": {
   "display_name": "Python 3",
   "language": "python",
   "name": "python3"
  },
  "language_info": {
   "codemirror_mode": {
    "name": "ipython",
    "version": 3
   },
   "file_extension": ".py",
   "mimetype": "text/x-python",
   "name": "python",
   "nbconvert_exporter": "python",
   "pygments_lexer": "ipython3",
   "version": "3.8.3"
  }
 },
 "nbformat": 4,
 "nbformat_minor": 4
}
