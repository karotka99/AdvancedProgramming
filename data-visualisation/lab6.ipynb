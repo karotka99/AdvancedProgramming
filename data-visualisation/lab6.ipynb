{
 "cells": [
  {
   "cell_type": "markdown",
   "metadata": {},
   "source": [
    "# Zadanie\n",
    "\n",
    "Pobrać ze strony listę pracowników akademickich i zaprezentować na wykresie jak rozkładają się pracownicy względem tytułów akademickich."
   ]
  },
  {
   "cell_type": "code",
   "execution_count": 16,
   "metadata": {},
   "outputs": [],
   "source": [
    "from bs4 import BeautifulSoup\n",
    "import requests"
   ]
  },
  {
   "cell_type": "code",
   "execution_count": 17,
   "metadata": {},
   "outputs": [
    {
     "data": {
      "text/plain": [
       "[' dr Katarzyna Adrianowiczadiunkt, MS 509 II, Katowice 256 ',\n",
       " ' dr inż. Marek Balcerasystent, MS 509 II ',\n",
       " ' mgr inż. Arkadiusz Banasikadiunkt, MS 411 ',\n",
       " ' prof. dr hab. Mykola Bratiichukprofesor nadzwyczajny, MS 514 ',\n",
       " ' dr inż. Rafał Brociekadiunkt, MS 509 I  ',\n",
       " ' dr Giacomo Capizziadiunkt, MS 516 ',\n",
       " ' mgr Agata Chmielowskaasystent, MS 509 I  ',\n",
       " ' dr Robertas Damaševičiusadiunkt, MS 516 ',\n",
       " ' prof. dr hab. inż. Radosław Grzymkowskiprofesor zwyczajny, MS 523 ',\n",
       " ' dr hab. inż. Edyta Hetmaniok, prof. PŚprofesor Politechniki Śląskiej, MS 512 ',\n",
       " ' dr inż. Konrad Kaczmarekadiunkt, MS 509 I / GiG 253 ',\n",
       " ' dr inż. Adrian Kapczyńskiadiunkt, MS 411 ',\n",
       " ' dr inż. Jarosław Karcewiczadiunkt, MS 411 ',\n",
       " ' dr hab. inż. Wojciech Kempa, prof. PŚprofesor Politechniki Śląskiej, MS 519 ',\n",
       " ' mgr Martyna Kobielnikasystent, MS 411 ',\n",
       " ' dr inż. Marcin Lawnikadiunkt, MS 411 ',\n",
       " ' dr Ewa Łobosadiunkt, MS 509 II, AEiI 622a ',\n",
       " ' dr Zbigniew Marszałekadiunkt, MS  516 ',\n",
       " ' dr inż. Elwira Mateja-Losaasystent, MS 509 II ',\n",
       " ' dr hab. Iwona Nowak, prof. PŚprofesor Politechniki Śląskiej, MS 306 ',\n",
       " ' dr inż. Sebastian Pabiaszadiunkt, MS 509 II ',\n",
       " ' dr inż. Mariusz Pleszczyńskiadiunkt, MS 509 I ',\n",
       " ' dr inż. Dawid Połapadiunkt, MS 516 ',\n",
       " ' dr hab. inż. Damian Słota, prof. PŚprofesor Politechniki Śląskiej, MS 515 ',\n",
       " ' dr inż. Marcin Sobotaadiunkt, MS 411 ',\n",
       " ' dr inż. Zdzisław Sroczyńskiadiunkt, MS  509 II ',\n",
       " ' dr hab. inż. Marcin Woźniak, prof. PŚprofesor Politechniki Śląskiej, MS 517 ',\n",
       " ' dr inż. Adam Zielonkaadiunkt, MS 509 I  ',\n",
       " ' mgr Hanna Wójtowiczspecjalista administracyjny, MS 503 I  tel. 32 237 20 23 ']"
      ]
     },
     "execution_count": 17,
     "metadata": {},
     "output_type": "execute_result"
    }
   ],
   "source": [
    "page= requests.get(\"https://ms.polsl.pl/kzmimsi/pracownicy/\")\n",
    "soup=BeautifulSoup(page.content,\"html.parser\")\n",
    "test=soup.select(\"div.pracownik\")\n",
    "\n",
    "test_=[i.get_text() for i in test]\n",
    "test_"
   ]
  },
  {
   "cell_type": "code",
   "execution_count": 18,
   "metadata": {},
   "outputs": [
    {
     "data": {
      "text/plain": [
       "(23, 4, 2)"
      ]
     },
     "execution_count": 18,
     "metadata": {},
     "output_type": "execute_result"
    }
   ],
   "source": [
    "dr=0\n",
    "mgr=0\n",
    "prof=0\n",
    "\n",
    "for i in test_:\n",
    "    if i[1:3]==\"dr\":\n",
    "        dr+=1\n",
    "    elif i[1:4]==\"mgr\":\n",
    "        mgr+=1\n",
    "    elif i[1:5]==\"prof\":\n",
    "        prof+=1    \n",
    "        \n",
    "        \n",
    "dr, mgr, prof"
   ]
  },
  {
   "cell_type": "code",
   "execution_count": 30,
   "metadata": {},
   "outputs": [
    {
     "data": {
      "image/png": "[encoded data removed]",
      "text/plain": [
       "<Figure size 432x288 with 1 Axes>"
      ]
     },
     "metadata": {},
     "output_type": "display_data"
    }
   ],
   "source": [
    "import matplotlib.pyplot as plt\n",
    "\n",
    "# Pie chart, where the slices will be ordered and plotted counter-clockwise:\n",
    "labels = 'dr', 'mgr', 'prof'\n",
    "sizes = [dr, mgr, prof]\n",
    "\n",
    "fig1, ax1 = plt.subplots()\n",
    "ax1.pie(sizes, labels=labels,autopct='%1.1f%%',\n",
    "       shadow=True,  startangle=90)\n",
    "ax1.axis('equal')  # Equal aspect ratio ensures that pie is drawn as a circle.\n",
    "\n",
    "plt.show()\n"
   ]
  }
 ],
 "metadata": {
  "kernelspec": {
   "display_name": "Python 3",
   "language": "python",
   "name": "python3"
  },
  "language_info": {
   "codemirror_mode": {
    "name": "ipython",
    "version": 3
   },
   "file_extension": ".py",
   "mimetype": "text/x-python",
   "name": "python",
   "nbconvert_exporter": "python",
   "pygments_lexer": "ipython3",
   "version": "3.8.3"
  }
 },
 "nbformat": 4,
 "nbformat_minor": 4
}
