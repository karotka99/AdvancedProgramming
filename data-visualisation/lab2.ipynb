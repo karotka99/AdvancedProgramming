{
 "cells": [
  {
   "cell_type": "markdown",
   "metadata": {},
   "source": [
    "### 1. Function for a given $n$ will calculate $n!$ . Give different solutions to this problem."
   ]
  },
  {
   "cell_type": "code",
   "execution_count": 1,
   "metadata": {},
   "outputs": [
    {
     "name": "stdout",
     "output_type": "stream",
     "text": [
      "24\n",
      "24\n"
     ]
    }
   ],
   "source": [
    "def factorial_iterative(n):\n",
    "    silnia = 1\n",
    "    for i in range(1, n+1):\n",
    "        silnia *= i\n",
    "    return silnia\n",
    "    \n",
    "\n",
    "def factorial_recursively(n):\n",
    "    if n == 1:\n",
    "        return 1\n",
    "    return n*factorial_recursively(n-1)\n",
    "\n",
    "\n",
    "print(factorial_iterative(4))\n",
    "print(factorial_recursively(4))"
   ]
  },
  {
   "cell_type": "markdown",
   "metadata": {},
   "source": [
    "### 2. The function calculates the $n$th Fibonacci number."
   ]
  },
  {
   "cell_type": "code",
   "execution_count": 3,
   "metadata": {},
   "outputs": [
    {
     "name": "stdout",
     "output_type": "stream",
     "text": [
      "55\n",
      "55\n"
     ]
    }
   ],
   "source": [
    "def fibonacci(n):\n",
    "    if n == 0:\n",
    "        return 0\n",
    "    elif n == 1:\n",
    "        return 1\n",
    "    return fibonacci(n-1) + fibonacci(n-2)\n",
    "\n",
    "def fib_2(n):\n",
    "    tab=[1,1]\n",
    "    for i in range(2,n):\n",
    "        tab.append(tab[i-1]+tab[i-2])\n",
    "    return tab[-1]\n",
    "\n",
    "\n",
    "print(fibonacci(10))\n",
    "print(fib_2(10))"
   ]
  },
  {
   "cell_type": "markdown",
   "metadata": {},
   "source": [
    "### 3. The function for any number of numeric arguments will return their arithmetic mean."
   ]
  },
  {
   "cell_type": "code",
   "execution_count": 7,
   "metadata": {},
   "outputs": [
    {
     "name": "stdout",
     "output_type": "stream",
     "text": [
      "11.0\n",
      "11.0\n"
     ]
    }
   ],
   "source": [
    "def mean(*numbers):\n",
    "    sum = 0\n",
    "    n=0\n",
    "    for el in numbers:\n",
    "        n +=1\n",
    "        sum += el\n",
    "    return sum/ n\n",
    "\n",
    "def mean2(*numbers):\n",
    "    return sum(numbers)/len(numbers)\n",
    "    \n",
    "        \n",
    "print(mean(10, 12,10,12))\n",
    "print(mean2(10, 12,10,12))"
   ]
  },
  {
   "cell_type": "markdown",
   "metadata": {},
   "source": [
    "### 4. The function for the given string will return a string with characters in reverse order."
   ]
  },
  {
   "cell_type": "code",
   "execution_count": 8,
   "metadata": {},
   "outputs": [
    {
     "name": "stdout",
     "output_type": "stream",
     "text": [
      "aniloraK\n",
      "akytametaM\n",
      "kyzcrataT aniloraK\n"
     ]
    }
   ],
   "source": [
    "def reverse(slowo):\n",
    "    temp = \"\"\n",
    "    for znak in slowo:\n",
    "        temp = znak + temp\n",
    "    return temp\n",
    "\n",
    "def revers2(s):\n",
    "    temp=\"\"\n",
    "    for i in range(len(s)):\n",
    "        temp+=s[len(s)-1-i]\n",
    "    return temp    \n",
    "\n",
    "def reverse3(s):\n",
    "    return s[::-1]\n",
    "\n",
    "\n",
    "print(reverse(\"Karolina\"))\n",
    "print(revers2(\"Matematyka\"))\n",
    "print(reverse3(\"Karolina Tatarczyk\"))"
   ]
  },
  {
   "cell_type": "markdown",
   "metadata": {},
   "source": [
    "### 5. The function for a given string will return how many uppercase and lowercase letters are in it."
   ]
  },
  {
   "cell_type": "code",
   "execution_count": 9,
   "metadata": {},
   "outputs": [
    {
     "data": {
      "text/plain": [
       "('Liczba małych: ', 11, 'Liczba dużych:', 6)"
      ]
     },
     "execution_count": 9,
     "metadata": {},
     "output_type": "execute_result"
    }
   ],
   "source": [
    "def lowerupper(string):\n",
    "    m, d = 0, 0\n",
    "    male = \"abcdefghijklmnoprstuwyqvxz\"\n",
    "    duze = \"ABCDEFGHIJKLMNOPRSTUWYQVXZ\"\n",
    "    for char in string:\n",
    "        if char in male:\n",
    "            m += 1\n",
    "        if char in duze:\n",
    "            d += 1\n",
    "    return \"Liczba małych: \", m, \"Liczba dużych:\", d\n",
    "\n",
    "lowerupper(\"KArolinA tATarczyK\")\n"
   ]
  },
  {
   "cell_type": "markdown",
   "metadata": {},
   "source": [
    "### 6. The function for a given array will return an array with its unique elements."
   ]
  },
  {
   "cell_type": "code",
   "execution_count": 10,
   "metadata": {},
   "outputs": [
    {
     "name": "stdout",
     "output_type": "stream",
     "text": [
      "[1, 2, 3, 4, 5, 7]\n",
      "[7, 1, 2, 3, 4, 5]\n"
     ]
    }
   ],
   "source": [
    "def unique(elements):\n",
    "    return list(set(elements))\n",
    "    \n",
    "def unique2(elements):\n",
    "    tab_uni=[]\n",
    "    for i in elements:\n",
    "        if i not in tab_uni:\n",
    "            tab_uni.append(i)\n",
    "    return tab_uni\n",
    "    \n",
    "print(unique([7,1,1,1,2,2,2, 2, 3, 4, 5])) \n",
    "print(unique2([7,1,1,1,2,2,2, 2, 3, 4, 5]))"
   ]
  },
  {
   "cell_type": "markdown",
   "metadata": {},
   "source": [
    "### 7. The function for the given string will return a dictionary with statistics on the frequency of each character."
   ]
  },
  {
   "cell_type": "code",
   "execution_count": 11,
   "metadata": {},
   "outputs": [
    {
     "name": "stdout",
     "output_type": "stream",
     "text": [
      "{'K': 1, 'a': 4, 'r': 2, 'o': 1, 'l': 1, 'i': 1, 'n': 1, ' ': 1, 'T': 1, 't': 1, 'c': 1, 'z': 1, 'y': 1, 'k': 1}\n",
      "{'t': 3, 'M': 1, 'm': 1, 'l': 1, 'w': 1, 'n': 1, 'k': 3, 'e': 1, 'a': 5, 'y': 1, 'r': 1, 'o': 3, ' ': 3, 'u': 1}\n"
     ]
    }
   ],
   "source": [
    "def dictionary(s):\n",
    "    stat = {}\n",
    "    for i in s:\n",
    "        if i in stat.keys():\n",
    "            stat[i] += 1\n",
    "        else:\n",
    "            stat[i] = 1\n",
    "    return stat\n",
    "def dictionary2(s):\n",
    "    marks=list(set(s))\n",
    "    statistic={}\n",
    "    for i in marks:\n",
    "        statistic[i]=s.count(i)\n",
    "    return statistic    \n",
    "\n",
    "\n",
    "print(dictionary(\"Karolina Tatarczyk\"))\n",
    "print(dictionary2(\"Matematyka to krolowa nauk\"))"
   ]
  },
  {
   "cell_type": "markdown",
   "metadata": {},
   "source": [
    "### 9. The function for the given string will return its form in camel notation, e.g. for 'ala has python' you will get 'alaHasPython'."
   ]
  },
  {
   "cell_type": "code",
   "execution_count": 12,
   "metadata": {},
   "outputs": [
    {
     "data": {
      "text/plain": [
       "'ILikeMathsAndCats'"
      ]
     },
     "execution_count": 12,
     "metadata": {},
     "output_type": "execute_result"
    }
   ],
   "source": [
    "def camel(s):\n",
    "    temp_s=\"\"\n",
    "    i=0\n",
    "    while i< len(s):\n",
    "        if s[i] ==\" \":\n",
    "            i+=1\n",
    "            temp_s += s[i].upper()\n",
    "        else:\n",
    "            temp_s += s[i]\n",
    "        i+=1\n",
    "    return temp_s\n",
    "\n",
    "camel(\"I like maths and cats\")"
   ]
  },
  {
   "cell_type": "markdown",
   "metadata": {},
   "source": [
    "### 10. The function for lists a=[1, 2, 3] and b=[4, 5, 6] will return the result c=[(1, 4), (2, 5), (3, 6)]."
   ]
  },
  {
   "cell_type": "code",
   "execution_count": 16,
   "metadata": {},
   "outputs": [
    {
     "data": {
      "text/plain": [
       "[(1, 4), (2, 5), (3, 6)]"
      ]
     },
     "execution_count": 16,
     "metadata": {},
     "output_type": "execute_result"
    }
   ],
   "source": [
    "def lists(tab1,tab2):\n",
    "    tab3=[]\n",
    "    for i in range(len(tab1)):\n",
    "        tab3.append((tab1[i],tab2[i]))\n",
    "    return tab3\n",
    "\n",
    "tab1=[1,2,3]\n",
    "tab2=[4,5,6]\n",
    "lists(tab1,tab2)    "
   ]
  },
  {
   "cell_type": "markdown",
   "metadata": {},
   "source": [
    "### 11. The function for the number range $<1, n>$ will return a list of values that are divisible by 3 and indivisible by 5."
   ]
  },
  {
   "cell_type": "code",
   "execution_count": 17,
   "metadata": {},
   "outputs": [
    {
     "name": "stdout",
     "output_type": "stream",
     "text": [
      "[3, 6, 9]\n",
      "[3, 6, 9]\n"
     ]
    }
   ],
   "source": [
    "def divisible(n):\n",
    "    numbers=[]\n",
    "    for i in range(n):\n",
    "        if i % 3 ==0 and i % 5 !=0:\n",
    "            numbers.append(i)\n",
    "    return numbers\n",
    "\n",
    "\n",
    "def divisible2(n):\n",
    "    return [i for i in range(n) if i % 3 ==0 and i % 5 !=0]\n",
    "\n",
    "print(divisible(10))\n",
    "print(divisible(10))"
   ]
  }
 ],
 "metadata": {
  "kernelspec": {
   "display_name": "Python 3",
   "language": "python",
   "name": "python3"
  },
  "language_info": {
   "codemirror_mode": {
    "name": "ipython",
    "version": 3
   },
   "file_extension": ".py",
   "mimetype": "text/x-python",
   "name": "python",
   "nbconvert_exporter": "python",
   "pygments_lexer": "ipython3",
   "version": "3.8.3"
  }
 },
 "nbformat": 4,
 "nbformat_minor": 4
}
